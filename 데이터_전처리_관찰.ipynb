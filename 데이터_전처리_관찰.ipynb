{
 "cells": [
  {
   "cell_type": "code",
   "execution_count": 11,
   "metadata": {},
   "outputs": [],
   "source": [
    "import pandas as pd"
   ]
  },
  {
   "cell_type": "code",
   "execution_count": 35,
   "metadata": {},
   "outputs": [
    {
     "data": {
      "text/html": [
       "<div>\n",
       "<style scoped>\n",
       "    .dataframe tbody tr th:only-of-type {\n",
       "        vertical-align: middle;\n",
       "    }\n",
       "\n",
       "    .dataframe tbody tr th {\n",
       "        vertical-align: top;\n",
       "    }\n",
       "\n",
       "    .dataframe thead th {\n",
       "        text-align: right;\n",
       "    }\n",
       "</style>\n",
       "<table border=\"1\" class=\"dataframe\">\n",
       "  <thead>\n",
       "    <tr style=\"text-align: right;\">\n",
       "      <th></th>\n",
       "      <th>평균기온(℃)</th>\n",
       "      <th>평균최고기온(℃)</th>\n",
       "      <th>평균최저기온(℃)</th>\n",
       "    </tr>\n",
       "    <tr>\n",
       "      <th>일시</th>\n",
       "      <th></th>\n",
       "      <th></th>\n",
       "      <th></th>\n",
       "    </tr>\n",
       "  </thead>\n",
       "  <tbody>\n",
       "    <tr>\n",
       "      <th>2018-01-01</th>\n",
       "      <td>-2.0</td>\n",
       "      <td>3.0</td>\n",
       "      <td>-6.4</td>\n",
       "    </tr>\n",
       "    <tr>\n",
       "      <th>2018-02-01</th>\n",
       "      <td>-0.2</td>\n",
       "      <td>5.6</td>\n",
       "      <td>-5.7</td>\n",
       "    </tr>\n",
       "    <tr>\n",
       "      <th>2018-03-01</th>\n",
       "      <td>8.1</td>\n",
       "      <td>14.3</td>\n",
       "      <td>2.5</td>\n",
       "    </tr>\n",
       "    <tr>\n",
       "      <th>2018-04-01</th>\n",
       "      <td>13.3</td>\n",
       "      <td>19.6</td>\n",
       "      <td>7.3</td>\n",
       "    </tr>\n",
       "    <tr>\n",
       "      <th>2018-05-01</th>\n",
       "      <td>17.8</td>\n",
       "      <td>23.4</td>\n",
       "      <td>12.7</td>\n",
       "    </tr>\n",
       "    <tr>\n",
       "      <th>2018-06-01</th>\n",
       "      <td>22.2</td>\n",
       "      <td>27.8</td>\n",
       "      <td>17.6</td>\n",
       "    </tr>\n",
       "    <tr>\n",
       "      <th>2018-07-01</th>\n",
       "      <td>26.8</td>\n",
       "      <td>31.6</td>\n",
       "      <td>22.9</td>\n",
       "    </tr>\n",
       "    <tr>\n",
       "      <th>2018-08-01</th>\n",
       "      <td>27.3</td>\n",
       "      <td>32.2</td>\n",
       "      <td>23.3</td>\n",
       "    </tr>\n",
       "    <tr>\n",
       "      <th>2018-09-01</th>\n",
       "      <td>20.4</td>\n",
       "      <td>25.3</td>\n",
       "      <td>16.3</td>\n",
       "    </tr>\n",
       "    <tr>\n",
       "      <th>2018-10-01</th>\n",
       "      <td>13.0</td>\n",
       "      <td>19.1</td>\n",
       "      <td>7.9</td>\n",
       "    </tr>\n",
       "    <tr>\n",
       "      <th>2018-11-01</th>\n",
       "      <td>8.1</td>\n",
       "      <td>14.4</td>\n",
       "      <td>3.0</td>\n",
       "    </tr>\n",
       "    <tr>\n",
       "      <th>2018-12-01</th>\n",
       "      <td>1.1</td>\n",
       "      <td>6.3</td>\n",
       "      <td>-3.4</td>\n",
       "    </tr>\n",
       "  </tbody>\n",
       "</table>\n",
       "</div>"
      ],
      "text/plain": [
       "            평균기온(℃)  평균최고기온(℃)  평균최저기온(℃)\n",
       "일시                                       \n",
       "2018-01-01     -2.0        3.0       -6.4\n",
       "2018-02-01     -0.2        5.6       -5.7\n",
       "2018-03-01      8.1       14.3        2.5\n",
       "2018-04-01     13.3       19.6        7.3\n",
       "2018-05-01     17.8       23.4       12.7\n",
       "2018-06-01     22.2       27.8       17.6\n",
       "2018-07-01     26.8       31.6       22.9\n",
       "2018-08-01     27.3       32.2       23.3\n",
       "2018-09-01     20.4       25.3       16.3\n",
       "2018-10-01     13.0       19.1        7.9\n",
       "2018-11-01      8.1       14.4        3.0\n",
       "2018-12-01      1.1        6.3       -3.4"
      ]
     },
     "execution_count": 35,
     "metadata": {},
     "output_type": "execute_result"
    }
   ],
   "source": [
    "#기온 데이터\n",
    "df1=pd.read_excel('./data/기온_전체_2010-2019.xlsx')\n",
    "#순서 역순으로 바꾸기\n",
    "df1=df1.loc[::-1].reset_index(drop=True)\n",
    "#평균기온, 평균최고, 평균최저만 남기고 drop\n",
    "df1.drop(['지역번호','지역명','최고기온관측지점','최저기온관측지점','최고기온(℃)','최저기온(℃)'],axis=1,inplace=True)\n",
    "#2019년 9월까지 자르기\n",
    "temp=df1.iloc[96:108]\n",
    "temp.set_index(['일시'],inplace=True)\n",
    "temp"
   ]
  },
  {
   "cell_type": "code",
   "execution_count": 36,
   "metadata": {},
   "outputs": [
    {
     "data": {
      "text/plain": [
       "Unnamed: 1      7.3\n",
       "Unnamed: 2        5\n",
       "Unnamed: 3      9.3\n",
       "Unnamed: 4       10\n",
       "Unnamed: 5     11.3\n",
       "Unnamed: 6      9.8\n",
       "Unnamed: 7      8.3\n",
       "Unnamed: 8     11.5\n",
       "Unnamed: 9      9.8\n",
       "Unnamed: 10       8\n",
       "Unnamed: 11     5.5\n",
       "Unnamed: 12     4.5\n",
       "Name: 8, dtype: object"
      ]
     },
     "execution_count": 36,
     "metadata": {},
     "output_type": "execute_result"
    }
   ],
   "source": [
    "#강수일수\n",
    "df2=pd.read_excel('./data/2018_강수일수.xlsx')\n",
    "\n",
    "df2T=df2.transpose()\n",
    "rain_days=df2T[8].iloc[1:13]\n",
    "rain_days.astype('float')\n",
    "rain_days"
   ]
  },
  {
   "cell_type": "code",
   "execution_count": 38,
   "metadata": {},
   "outputs": [
    {
     "data": {
      "text/plain": [
       "0       8.5\n",
       "1      29.6\n",
       "2      49.5\n",
       "3     130.3\n",
       "4     222.0\n",
       "5     171.5\n",
       "6     185.6\n",
       "7     202.6\n",
       "8      68.5\n",
       "9     120.5\n",
       "10     79.1\n",
       "11     16.4\n",
       "Name: Unnamed: 2, dtype: float64"
      ]
     },
     "execution_count": 38,
     "metadata": {},
     "output_type": "execute_result"
    }
   ],
   "source": [
    "#강수량\n",
    "rainfall=pd.read_excel('./data/2018_강수량.xlsx',skiprows=[1,2,3,4,5,6,7])\n",
    "rainfall=rainfall['Unnamed: 2']\n",
    "rainfall"
   ]
  },
  {
   "cell_type": "code",
   "execution_count": 39,
   "metadata": {},
   "outputs": [
    {
     "data": {
      "text/plain": [
       "Unnamed: 1     0\n",
       "Unnamed: 2     0\n",
       "Unnamed: 3     0\n",
       "Unnamed: 4     2\n",
       "Unnamed: 5     1\n",
       "Unnamed: 6     0\n",
       "Unnamed: 7     0\n",
       "Unnamed: 8     0\n",
       "Unnamed: 9     0\n",
       "Unnamed: 10    0\n",
       "Unnamed: 11    2\n",
       "Unnamed: 12    0\n",
       "Name: 8, dtype: object"
      ]
     },
     "execution_count": 39,
     "metadata": {},
     "output_type": "execute_result"
    }
   ],
   "source": [
    "#황사일수\n",
    "dust=pd.read_excel('./data/2018_황사일수.xlsx')\n",
    "dustT=dust.transpose()\n",
    "dust=dustT[8].iloc[1:13]\n",
    "dust"
   ]
  },
  {
   "cell_type": "code",
   "execution_count": 42,
   "metadata": {},
   "outputs": [
    {
     "data": {
      "text/html": [
       "<div>\n",
       "<style scoped>\n",
       "    .dataframe tbody tr th:only-of-type {\n",
       "        vertical-align: middle;\n",
       "    }\n",
       "\n",
       "    .dataframe tbody tr th {\n",
       "        vertical-align: top;\n",
       "    }\n",
       "\n",
       "    .dataframe thead th {\n",
       "        text-align: right;\n",
       "    }\n",
       "</style>\n",
       "<table border=\"1\" class=\"dataframe\">\n",
       "  <thead>\n",
       "    <tr style=\"text-align: right;\">\n",
       "      <th></th>\n",
       "      <th>체감기온(°C)</th>\n",
       "    </tr>\n",
       "    <tr>\n",
       "      <th>월별</th>\n",
       "      <th></th>\n",
       "    </tr>\n",
       "  </thead>\n",
       "  <tbody>\n",
       "    <tr>\n",
       "      <th>2018.01</th>\n",
       "      <td>-6.054839</td>\n",
       "    </tr>\n",
       "    <tr>\n",
       "      <th>2018.02</th>\n",
       "      <td>-3.800000</td>\n",
       "    </tr>\n",
       "    <tr>\n",
       "      <th>2018.03</th>\n",
       "      <td>7.335484</td>\n",
       "    </tr>\n",
       "    <tr>\n",
       "      <th>2018.04</th>\n",
       "      <td>12.596667</td>\n",
       "    </tr>\n",
       "    <tr>\n",
       "      <th>2018.05</th>\n",
       "      <td>18.090323</td>\n",
       "    </tr>\n",
       "    <tr>\n",
       "      <th>2018.06</th>\n",
       "      <td>23.143333</td>\n",
       "    </tr>\n",
       "    <tr>\n",
       "      <th>2018.07</th>\n",
       "      <td>27.764516</td>\n",
       "    </tr>\n",
       "    <tr>\n",
       "      <th>2018.08</th>\n",
       "      <td>28.738710</td>\n",
       "    </tr>\n",
       "    <tr>\n",
       "      <th>2018.09</th>\n",
       "      <td>21.503333</td>\n",
       "    </tr>\n",
       "    <tr>\n",
       "      <th>2018.10</th>\n",
       "      <td>12.916129</td>\n",
       "    </tr>\n",
       "    <tr>\n",
       "      <th>2018.11</th>\n",
       "      <td>7.436667</td>\n",
       "    </tr>\n",
       "    <tr>\n",
       "      <th>2018.12</th>\n",
       "      <td>-2.167742</td>\n",
       "    </tr>\n",
       "  </tbody>\n",
       "</table>\n",
       "</div>"
      ],
      "text/plain": [
       "          체감기온(°C)\n",
       "월별                \n",
       "2018.01  -6.054839\n",
       "2018.02  -3.800000\n",
       "2018.03   7.335484\n",
       "2018.04  12.596667\n",
       "2018.05  18.090323\n",
       "2018.06  23.143333\n",
       "2018.07  27.764516\n",
       "2018.08  28.738710\n",
       "2018.09  21.503333\n",
       "2018.10  12.916129\n",
       "2018.11   7.436667\n",
       "2018.12  -2.167742"
      ]
     },
     "execution_count": 42,
     "metadata": {},
     "output_type": "execute_result"
    }
   ],
   "source": [
    "#체감온도\n",
    "feelingtemp = pd.read_excel('./data/2018_체감온도.xlsx', header=3)\n",
    "def month(day):\n",
    "    return day[0:4] + '.' + day[5:7]\n",
    "\n",
    "feelingtemp['월별'] = feelingtemp['일자'].astype(str).apply(month)\n",
    "feelingtemp = feelingtemp.drop(['일자'], axis=1).groupby('월별').mean().drop([\"기온(°C)\",'풍속(m/s)'], axis=1)\n",
    "feelingtemp"
   ]
  },
  {
   "cell_type": "code",
   "execution_count": null,
   "metadata": {},
   "outputs": [],
   "source": []
  }
 ],
 "metadata": {
  "kernelspec": {
   "display_name": "Python 3",
   "language": "python",
   "name": "python3"
  },
  "language_info": {
   "codemirror_mode": {
    "name": "ipython",
    "version": 3
   },
   "file_extension": ".py",
   "mimetype": "text/x-python",
   "name": "python",
   "nbconvert_exporter": "python",
   "pygments_lexer": "ipython3",
   "version": "3.7.5"
  }
 },
 "nbformat": 4,
 "nbformat_minor": 2
}
