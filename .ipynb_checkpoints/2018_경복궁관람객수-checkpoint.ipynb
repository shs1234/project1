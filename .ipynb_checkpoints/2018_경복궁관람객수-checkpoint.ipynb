{
 "cells": [
  {
   "cell_type": "code",
   "execution_count": 1,
   "metadata": {},
   "outputs": [],
   "source": [
    "import pandas as pd"
   ]
  },
  {
   "cell_type": "code",
   "execution_count": 43,
   "metadata": {},
   "outputs": [
    {
     "data": {
      "text/html": [
       "<div>\n",
       "<style scoped>\n",
       "    .dataframe tbody tr th:only-of-type {\n",
       "        vertical-align: middle;\n",
       "    }\n",
       "\n",
       "    .dataframe tbody tr th {\n",
       "        vertical-align: top;\n",
       "    }\n",
       "\n",
       "    .dataframe thead th {\n",
       "        text-align: right;\n",
       "    }\n",
       "</style>\n",
       "<table border=\"1\" class=\"dataframe\">\n",
       "  <thead>\n",
       "    <tr style=\"text-align: right;\">\n",
       "      <th></th>\n",
       "      <th>경복궁(내국인)</th>\n",
       "    </tr>\n",
       "    <tr>\n",
       "      <th>월별</th>\n",
       "      <th></th>\n",
       "    </tr>\n",
       "  </thead>\n",
       "  <tbody>\n",
       "    <tr>\n",
       "      <th>2018.01</th>\n",
       "      <td>124211</td>\n",
       "    </tr>\n",
       "    <tr>\n",
       "      <th>2018.02</th>\n",
       "      <td>197756</td>\n",
       "    </tr>\n",
       "    <tr>\n",
       "      <th>2018.03</th>\n",
       "      <td>220494</td>\n",
       "    </tr>\n",
       "    <tr>\n",
       "      <th>2018.04</th>\n",
       "      <td>341280</td>\n",
       "    </tr>\n",
       "    <tr>\n",
       "      <th>2018.05</th>\n",
       "      <td>407217</td>\n",
       "    </tr>\n",
       "    <tr>\n",
       "      <th>2018.06</th>\n",
       "      <td>279530</td>\n",
       "    </tr>\n",
       "    <tr>\n",
       "      <th>2018.07</th>\n",
       "      <td>200582</td>\n",
       "    </tr>\n",
       "    <tr>\n",
       "      <th>2018.08</th>\n",
       "      <td>198930</td>\n",
       "    </tr>\n",
       "    <tr>\n",
       "      <th>2018.09</th>\n",
       "      <td>528333</td>\n",
       "    </tr>\n",
       "    <tr>\n",
       "      <th>2018.10</th>\n",
       "      <td>434708</td>\n",
       "    </tr>\n",
       "    <tr>\n",
       "      <th>2018.11</th>\n",
       "      <td>290439</td>\n",
       "    </tr>\n",
       "    <tr>\n",
       "      <th>2018.12</th>\n",
       "      <td>201767</td>\n",
       "    </tr>\n",
       "  </tbody>\n",
       "</table>\n",
       "</div>"
      ],
      "text/plain": [
       "         경복궁(내국인)\n",
       "월별               \n",
       "2018.01    124211\n",
       "2018.02    197756\n",
       "2018.03    220494\n",
       "2018.04    341280\n",
       "2018.05    407217\n",
       "2018.06    279530\n",
       "2018.07    200582\n",
       "2018.08    198930\n",
       "2018.09    528333\n",
       "2018.10    434708\n",
       "2018.11    290439\n",
       "2018.12    201767"
      ]
     },
     "execution_count": 43,
     "metadata": {},
     "output_type": "execute_result"
    }
   ],
   "source": [
    "# 경복궁_관람객수\n",
    "palace_visitors = pd.read_excel('./data/문화재청_궁능원_관람객_수_현황(2018년).xlsx', header=0).iloc[:,[0,3]]\n",
    "\n",
    "\n",
    "def month(day):\n",
    "    return day[0:4] + '.' + day[5:7]\n",
    "\n",
    "palace_visitors['월별'] = palace_visitors['일자'].astype(str).apply(month)\n",
    "palace_visitors = pd.DataFrame(palace_visitors.drop(['일자'], axis=1).groupby('월별').sum())\n",
    "palace_visitors\n"
   ]
  },
  {
   "cell_type": "code",
   "execution_count": null,
   "metadata": {},
   "outputs": [],
   "source": []
  }
 ],
 "metadata": {
  "kernelspec": {
   "display_name": "Python 3",
   "language": "python",
   "name": "python3"
  },
  "language_info": {
   "codemirror_mode": {
    "name": "ipython",
    "version": 3
   },
   "file_extension": ".py",
   "mimetype": "text/x-python",
   "name": "python",
   "nbconvert_exporter": "python",
   "pygments_lexer": "ipython3",
   "version": "3.7.5"
  }
 },
 "nbformat": 4,
 "nbformat_minor": 2
}
