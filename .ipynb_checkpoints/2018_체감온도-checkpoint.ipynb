{
 "cells": [
  {
   "cell_type": "code",
   "execution_count": 1,
   "metadata": {},
   "outputs": [],
   "source": [
    "import pandas as pd"
   ]
  },
  {
   "cell_type": "code",
   "execution_count": 2,
   "metadata": {},
   "outputs": [],
   "source": [
    "df = pd.read_excel('./data/2018_체감온도.xlsx', header=3)\n",
    "df1 = df"
   ]
  },
  {
   "cell_type": "code",
   "execution_count": 3,
   "metadata": {},
   "outputs": [],
   "source": [
    "def month(day):\n",
    "    return day[0:4] + '.' + day[5:7]"
   ]
  },
  {
   "cell_type": "code",
   "execution_count": 4,
   "metadata": {
    "scrolled": true
   },
   "outputs": [
    {
     "data": {
      "text/html": [
       "<div>\n",
       "<style scoped>\n",
       "    .dataframe tbody tr th:only-of-type {\n",
       "        vertical-align: middle;\n",
       "    }\n",
       "\n",
       "    .dataframe tbody tr th {\n",
       "        vertical-align: top;\n",
       "    }\n",
       "\n",
       "    .dataframe thead th {\n",
       "        text-align: right;\n",
       "    }\n",
       "</style>\n",
       "<table border=\"1\" class=\"dataframe\">\n",
       "  <thead>\n",
       "    <tr style=\"text-align: right;\">\n",
       "      <th></th>\n",
       "      <th>기온(°C)</th>\n",
       "      <th>풍속(m/s)</th>\n",
       "      <th>체감기온(°C)</th>\n",
       "    </tr>\n",
       "    <tr>\n",
       "      <th>월별</th>\n",
       "      <th></th>\n",
       "      <th></th>\n",
       "      <th></th>\n",
       "    </tr>\n",
       "  </thead>\n",
       "  <tbody>\n",
       "    <tr>\n",
       "      <th>2018.01</th>\n",
       "      <td>-3.941935</td>\n",
       "      <td>1.880645</td>\n",
       "      <td>-6.054839</td>\n",
       "    </tr>\n",
       "    <tr>\n",
       "      <th>2018.02</th>\n",
       "      <td>-1.664286</td>\n",
       "      <td>2.185714</td>\n",
       "      <td>-3.800000</td>\n",
       "    </tr>\n",
       "    <tr>\n",
       "      <th>2018.03</th>\n",
       "      <td>8.051613</td>\n",
       "      <td>1.922581</td>\n",
       "      <td>7.335484</td>\n",
       "    </tr>\n",
       "    <tr>\n",
       "      <th>2018.04</th>\n",
       "      <td>12.950000</td>\n",
       "      <td>1.980000</td>\n",
       "      <td>12.596667</td>\n",
       "    </tr>\n",
       "    <tr>\n",
       "      <th>2018.05</th>\n",
       "      <td>18.148387</td>\n",
       "      <td>1.722581</td>\n",
       "      <td>18.090323</td>\n",
       "    </tr>\n",
       "    <tr>\n",
       "      <th>2018.06</th>\n",
       "      <td>23.143333</td>\n",
       "      <td>1.680000</td>\n",
       "      <td>23.143333</td>\n",
       "    </tr>\n",
       "    <tr>\n",
       "      <th>2018.07</th>\n",
       "      <td>27.764516</td>\n",
       "      <td>1.451613</td>\n",
       "      <td>27.764516</td>\n",
       "    </tr>\n",
       "    <tr>\n",
       "      <th>2018.08</th>\n",
       "      <td>28.738710</td>\n",
       "      <td>1.700000</td>\n",
       "      <td>28.738710</td>\n",
       "    </tr>\n",
       "    <tr>\n",
       "      <th>2018.09</th>\n",
       "      <td>21.503333</td>\n",
       "      <td>1.550000</td>\n",
       "      <td>21.503333</td>\n",
       "    </tr>\n",
       "    <tr>\n",
       "      <th>2018.10</th>\n",
       "      <td>13.090323</td>\n",
       "      <td>1.538710</td>\n",
       "      <td>12.916129</td>\n",
       "    </tr>\n",
       "    <tr>\n",
       "      <th>2018.11</th>\n",
       "      <td>7.813333</td>\n",
       "      <td>1.390000</td>\n",
       "      <td>7.436667</td>\n",
       "    </tr>\n",
       "    <tr>\n",
       "      <th>2018.12</th>\n",
       "      <td>-0.583871</td>\n",
       "      <td>1.809677</td>\n",
       "      <td>-2.167742</td>\n",
       "    </tr>\n",
       "  </tbody>\n",
       "</table>\n",
       "</div>"
      ],
      "text/plain": [
       "            기온(°C)   풍속(m/s)   체감기온(°C)\n",
       "월별                                     \n",
       "2018.01  -3.941935  1.880645  -6.054839\n",
       "2018.02  -1.664286  2.185714  -3.800000\n",
       "2018.03   8.051613  1.922581   7.335484\n",
       "2018.04  12.950000  1.980000  12.596667\n",
       "2018.05  18.148387  1.722581  18.090323\n",
       "2018.06  23.143333  1.680000  23.143333\n",
       "2018.07  27.764516  1.451613  27.764516\n",
       "2018.08  28.738710  1.700000  28.738710\n",
       "2018.09  21.503333  1.550000  21.503333\n",
       "2018.10  13.090323  1.538710  12.916129\n",
       "2018.11   7.813333  1.390000   7.436667\n",
       "2018.12  -0.583871  1.809677  -2.167742"
      ]
     },
     "execution_count": 4,
     "metadata": {},
     "output_type": "execute_result"
    }
   ],
   "source": [
    "df['월별'] = df['일자'].astype(str).apply(month)\n",
    "df = df.drop(['일자'], axis=1).groupby('월별').mean()\n",
    "df"
   ]
  },
  {
   "cell_type": "code",
   "execution_count": 5,
   "metadata": {
    "scrolled": true
   },
   "outputs": [
    {
     "name": "stdout",
     "output_type": "stream",
     "text": [
      "25.9 ns ± 10.5 ns per loop (mean ± std. dev. of 7 runs, 100000000 loops each)\n"
     ]
    }
   ],
   "source": [
    "# for i in range(len(df1['일자'])):\n",
    "#     df1.loc[i, '월별'] = str(df1.loc[i, '일자'])[0:4]+ '.' + str(df1.loc[i, '일자'])[5:7] \n",
    "\n",
    "# df1 = df1.groupby('월별').mean()\n",
    "# %timeit df1"
   ]
  }
 ],
 "metadata": {
  "kernelspec": {
   "display_name": "Python 3",
   "language": "python",
   "name": "python3"
  },
  "language_info": {
   "codemirror_mode": {
    "name": "ipython",
    "version": 3
   },
   "file_extension": ".py",
   "mimetype": "text/x-python",
   "name": "python",
   "nbconvert_exporter": "python",
   "pygments_lexer": "ipython3",
   "version": "3.7.5"
  }
 },
 "nbformat": 4,
 "nbformat_minor": 2
}
