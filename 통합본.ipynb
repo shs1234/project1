#기온 데이터
df1=pd.read_excel('./data/기온_전체_2010-2019.xlsx')
#순서 역순으로 바꾸기
df1=df1.loc[::-1].reset_index(drop=True)
#평균기온, 평균최고, 평균최저만 남기고 drop
df1.drop(['지역번호','지역명','최고기온관측지점','최저기온관측지점','최고기온(℃)','최저기온(℃)'],axis=1,inplace=True)
#2019년 9월까지 자르기
기온3종세트=df1.iloc[96:108]
기온3종세트.set_index(['일시'],inplace=True)

#강수일수
df2=pd.read_excel('./data/2018_강수일수.xlsx')

df2T=df2.transpose()
강수일수=df2T[8].iloc[1:13]

#강수량
df3=pd.read_excel('./data/2018_강수량.xlsx',skiprows=[1,2,3,4,5,6,7])
강수량=df3['Unnamed: 2']

#황사일수
df4=pd.read_excel('./data/2018_황사일수.xlsx')
df4T=df4.transpose()
황사일수=df4T[8].iloc[1:13]


df = pd.read_excel('./data/2018_체감온도.xlsx', header=3)

for i in range(len(df['일자'])):
    df.loc[i, '월별'] = str(df.loc[i, '일자'])[0:4]+ '.' + str(df.loc[i, '일자'])[5:7] 

체감기온 = df.groupby('월별').mean()

df7 = pd.read_csv('C:/project1/data/2018소비자물가지수.csv', encoding='cp949', header=0).iloc[:, 2:]
소비자물가지수 = pd.DataFrame(df7.T[0])

df9 = pd.read_excel('./data/2018_폭염지수.xlsx', header=5).iloc[[1], 1:]
df9 = df.T